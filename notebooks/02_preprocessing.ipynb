{
 "cells": [
  {
   "cell_type": "markdown",
   "metadata": {},
   "source": [
    "# Data Preprocessing & Feature Engineering\n",
    "\n",
    "## Objective\n",
    "Clean the dataset and engineer features for machine learning model training.\n",
    "\n",
    "## Steps\n",
    "1. Load raw data\n",
    "2. Handle missing and invalid values\n",
    "3. Convert data types\n",
    "4. Engineer new features\n",
    "5. Encode categorical variables\n",
    "6. Normalize/scale numerical features\n",
    "7. Save processed data"
   ]
  },
  {
   "cell_type": "code",
   "execution_count": 1,
   "metadata": {},
   "outputs": [],
   "source": [
    "import pandas as pd\n",
    "import numpy as np\n",
    "import json\n",
    "from pathlib import Path\n",
    "from sklearn.preprocessing import StandardScaler, LabelEncoder\n",
    "import warnings\n",
    "warnings.filterwarnings('ignore')"
   ]
  },
  {
   "cell_type": "code",
   "execution_count": 2,
   "metadata": {},
   "outputs": [],
   "source": [
    "with open('../config.json', 'r') as f:\n",
    "    config = json.load(f)\n",
    "\n",
    "raw_data_path = Path(config['paths']['raw_data'])\n",
    "processed_data_path = Path(config['paths']['processed_data'])"
   ]
  },
  {
   "cell_type": "markdown",
   "metadata": {},
   "source": [
    "## 1. Load Raw Data"
   ]
  },
  {
   "cell_type": "code",
   "execution_count": 3,
   "metadata": {},
   "outputs": [
    {
     "name": "stdout",
     "output_type": "stream",
     "text": [
      "Original shape: (7043, 21)\n"
     ]
    },
    {
     "data": {
      "text/html": [
       "<div>\n",
       "<style scoped>\n",
       "    .dataframe tbody tr th:only-of-type {\n",
       "        vertical-align: middle;\n",
       "    }\n",
       "\n",
       "    .dataframe tbody tr th {\n",
       "        vertical-align: top;\n",
       "    }\n",
       "\n",
       "    .dataframe thead th {\n",
       "        text-align: right;\n",
       "    }\n",
       "</style>\n",
       "<table border=\"1\" class=\"dataframe\">\n",
       "  <thead>\n",
       "    <tr style=\"text-align: right;\">\n",
       "      <th></th>\n",
       "      <th>customerID</th>\n",
       "      <th>gender</th>\n",
       "      <th>SeniorCitizen</th>\n",
       "      <th>Partner</th>\n",
       "      <th>Dependents</th>\n",
       "      <th>tenure</th>\n",
       "      <th>PhoneService</th>\n",
       "      <th>MultipleLines</th>\n",
       "      <th>InternetService</th>\n",
       "      <th>OnlineSecurity</th>\n",
       "      <th>...</th>\n",
       "      <th>DeviceProtection</th>\n",
       "      <th>TechSupport</th>\n",
       "      <th>StreamingTV</th>\n",
       "      <th>StreamingMovies</th>\n",
       "      <th>Contract</th>\n",
       "      <th>PaperlessBilling</th>\n",
       "      <th>PaymentMethod</th>\n",
       "      <th>MonthlyCharges</th>\n",
       "      <th>TotalCharges</th>\n",
       "      <th>Churn</th>\n",
       "    </tr>\n",
       "  </thead>\n",
       "  <tbody>\n",
       "    <tr>\n",
       "      <th>0</th>\n",
       "      <td>7590-VHVEG</td>\n",
       "      <td>Female</td>\n",
       "      <td>0</td>\n",
       "      <td>Yes</td>\n",
       "      <td>No</td>\n",
       "      <td>1</td>\n",
       "      <td>No</td>\n",
       "      <td>No phone service</td>\n",
       "      <td>DSL</td>\n",
       "      <td>No</td>\n",
       "      <td>...</td>\n",
       "      <td>No</td>\n",
       "      <td>No</td>\n",
       "      <td>No</td>\n",
       "      <td>No</td>\n",
       "      <td>Month-to-month</td>\n",
       "      <td>Yes</td>\n",
       "      <td>Electronic check</td>\n",
       "      <td>29.85</td>\n",
       "      <td>29.85</td>\n",
       "      <td>No</td>\n",
       "    </tr>\n",
       "    <tr>\n",
       "      <th>1</th>\n",
       "      <td>5575-GNVDE</td>\n",
       "      <td>Male</td>\n",
       "      <td>0</td>\n",
       "      <td>No</td>\n",
       "      <td>No</td>\n",
       "      <td>34</td>\n",
       "      <td>Yes</td>\n",
       "      <td>No</td>\n",
       "      <td>DSL</td>\n",
       "      <td>Yes</td>\n",
       "      <td>...</td>\n",
       "      <td>Yes</td>\n",
       "      <td>No</td>\n",
       "      <td>No</td>\n",
       "      <td>No</td>\n",
       "      <td>One year</td>\n",
       "      <td>No</td>\n",
       "      <td>Mailed check</td>\n",
       "      <td>56.95</td>\n",
       "      <td>1889.5</td>\n",
       "      <td>No</td>\n",
       "    </tr>\n",
       "    <tr>\n",
       "      <th>2</th>\n",
       "      <td>3668-QPYBK</td>\n",
       "      <td>Male</td>\n",
       "      <td>0</td>\n",
       "      <td>No</td>\n",
       "      <td>No</td>\n",
       "      <td>2</td>\n",
       "      <td>Yes</td>\n",
       "      <td>No</td>\n",
       "      <td>DSL</td>\n",
       "      <td>Yes</td>\n",
       "      <td>...</td>\n",
       "      <td>No</td>\n",
       "      <td>No</td>\n",
       "      <td>No</td>\n",
       "      <td>No</td>\n",
       "      <td>Month-to-month</td>\n",
       "      <td>Yes</td>\n",
       "      <td>Mailed check</td>\n",
       "      <td>53.85</td>\n",
       "      <td>108.15</td>\n",
       "      <td>Yes</td>\n",
       "    </tr>\n",
       "    <tr>\n",
       "      <th>3</th>\n",
       "      <td>7795-CFOCW</td>\n",
       "      <td>Male</td>\n",
       "      <td>0</td>\n",
       "      <td>No</td>\n",
       "      <td>No</td>\n",
       "      <td>45</td>\n",
       "      <td>No</td>\n",
       "      <td>No phone service</td>\n",
       "      <td>DSL</td>\n",
       "      <td>Yes</td>\n",
       "      <td>...</td>\n",
       "      <td>Yes</td>\n",
       "      <td>Yes</td>\n",
       "      <td>No</td>\n",
       "      <td>No</td>\n",
       "      <td>One year</td>\n",
       "      <td>No</td>\n",
       "      <td>Bank transfer (automatic)</td>\n",
       "      <td>42.30</td>\n",
       "      <td>1840.75</td>\n",
       "      <td>No</td>\n",
       "    </tr>\n",
       "    <tr>\n",
       "      <th>4</th>\n",
       "      <td>9237-HQITU</td>\n",
       "      <td>Female</td>\n",
       "      <td>0</td>\n",
       "      <td>No</td>\n",
       "      <td>No</td>\n",
       "      <td>2</td>\n",
       "      <td>Yes</td>\n",
       "      <td>No</td>\n",
       "      <td>Fiber optic</td>\n",
       "      <td>No</td>\n",
       "      <td>...</td>\n",
       "      <td>No</td>\n",
       "      <td>No</td>\n",
       "      <td>No</td>\n",
       "      <td>No</td>\n",
       "      <td>Month-to-month</td>\n",
       "      <td>Yes</td>\n",
       "      <td>Electronic check</td>\n",
       "      <td>70.70</td>\n",
       "      <td>151.65</td>\n",
       "      <td>Yes</td>\n",
       "    </tr>\n",
       "  </tbody>\n",
       "</table>\n",
       "<p>5 rows × 21 columns</p>\n",
       "</div>"
      ],
      "text/plain": [
       "   customerID  gender  SeniorCitizen Partner Dependents  tenure PhoneService  \\\n",
       "0  7590-VHVEG  Female              0     Yes         No       1           No   \n",
       "1  5575-GNVDE    Male              0      No         No      34          Yes   \n",
       "2  3668-QPYBK    Male              0      No         No       2          Yes   \n",
       "3  7795-CFOCW    Male              0      No         No      45           No   \n",
       "4  9237-HQITU  Female              0      No         No       2          Yes   \n",
       "\n",
       "      MultipleLines InternetService OnlineSecurity  ... DeviceProtection  \\\n",
       "0  No phone service             DSL             No  ...               No   \n",
       "1                No             DSL            Yes  ...              Yes   \n",
       "2                No             DSL            Yes  ...               No   \n",
       "3  No phone service             DSL            Yes  ...              Yes   \n",
       "4                No     Fiber optic             No  ...               No   \n",
       "\n",
       "  TechSupport StreamingTV StreamingMovies        Contract PaperlessBilling  \\\n",
       "0          No          No              No  Month-to-month              Yes   \n",
       "1          No          No              No        One year               No   \n",
       "2          No          No              No  Month-to-month              Yes   \n",
       "3         Yes          No              No        One year               No   \n",
       "4          No          No              No  Month-to-month              Yes   \n",
       "\n",
       "               PaymentMethod MonthlyCharges  TotalCharges Churn  \n",
       "0           Electronic check          29.85         29.85    No  \n",
       "1               Mailed check          56.95        1889.5    No  \n",
       "2               Mailed check          53.85        108.15   Yes  \n",
       "3  Bank transfer (automatic)          42.30       1840.75    No  \n",
       "4           Electronic check          70.70        151.65   Yes  \n",
       "\n",
       "[5 rows x 21 columns]"
      ]
     },
     "execution_count": 3,
     "metadata": {},
     "output_type": "execute_result"
    }
   ],
   "source": [
    "df = pd.read_csv(raw_data_path / 'customer_behavior.csv')\n",
    "print(f\"Original shape: {df.shape}\")\n",
    "df.head()"
   ]
  },
  {
   "cell_type": "markdown",
   "metadata": {},
   "source": [
    "## 2. Fix Data Types"
   ]
  },
  {
   "cell_type": "code",
   "execution_count": 4,
   "metadata": {},
   "outputs": [
    {
     "name": "stdout",
     "output_type": "stream",
     "text": [
      "TotalCharges converted to numeric\n",
      "Rows with NaN TotalCharges: 11\n"
     ]
    }
   ],
   "source": [
    "df['TotalCharges'] = pd.to_numeric(df['TotalCharges'], errors='coerce')\n",
    "print(f\"TotalCharges converted to numeric\")\n",
    "print(f\"Rows with NaN TotalCharges: {df['TotalCharges'].isna().sum()}\")"
   ]
  },
  {
   "cell_type": "markdown",
   "metadata": {},
   "source": [
    "## 3. Handle Missing Values"
   ]
  },
  {
   "cell_type": "code",
   "execution_count": 5,
   "metadata": {},
   "outputs": [
    {
     "name": "stdout",
     "output_type": "stream",
     "text": [
      "\n",
      "Customers with missing TotalCharges: 11\n",
      "\n",
      "Analyzing customers with missing charges...\n",
      "      customerID  tenure  MonthlyCharges  TotalCharges\n",
      "488   4472-LVYGI       0           52.55           NaN\n",
      "753   3115-CZMZD       0           20.25           NaN\n",
      "936   5709-LVOEQ       0           80.85           NaN\n",
      "1082  4367-NUYAO       0           25.75           NaN\n",
      "1340  1371-DWPAZ       0           56.05           NaN\n",
      "\n",
      "Filled missing TotalCharges with MonthlyCharges * tenure\n",
      "\n",
      "Remaining missing values: 0\n"
     ]
    }
   ],
   "source": [
    "missing_charges = df['TotalCharges'].isna()\n",
    "print(f\"\\nCustomers with missing TotalCharges: {missing_charges.sum()}\")\n",
    "\n",
    "if missing_charges.sum() > 0:\n",
    "    print(\"\\nAnalyzing customers with missing charges...\")\n",
    "    print(df[missing_charges][['customerID', 'tenure', 'MonthlyCharges', 'TotalCharges']].head())\n",
    "    \n",
    "    df.loc[missing_charges, 'TotalCharges'] = df.loc[missing_charges, 'MonthlyCharges'] * df.loc[missing_charges, 'tenure']\n",
    "    print(f\"\\nFilled missing TotalCharges with MonthlyCharges * tenure\")\n",
    "\n",
    "print(f\"\\nRemaining missing values: {df['TotalCharges'].isna().sum()}\")"
   ]
  },
  {
   "cell_type": "markdown",
   "metadata": {},
   "source": [
    "## 4. Feature Engineering"
   ]
  },
  {
   "cell_type": "code",
   "execution_count": 6,
   "metadata": {},
   "outputs": [
    {
     "name": "stdout",
     "output_type": "stream",
     "text": [
      "\n",
      "Engineered features:\n",
      "- Tenure-based: tenure_years\n",
      "- Financial: avg_monthly_spend, charge_per_tenure\n",
      "- Service: total_services, has_streaming, has_security, has_support\n",
      "- Customer: is_long_term, has_partner_or_dependent, auto_payment\n"
     ]
    }
   ],
   "source": [
    "df['tenure_months'] = df['tenure']\n",
    "df['tenure_years'] = df['tenure'] / 12\n",
    "\n",
    "df['avg_monthly_spend'] = df['TotalCharges'] / (df['tenure'] + 1)\n",
    "\n",
    "df['charge_per_tenure'] = df['MonthlyCharges'] / (df['tenure'] + 1)\n",
    "\n",
    "service_cols = ['PhoneService', 'MultipleLines', 'InternetService', 'OnlineSecurity',\n",
    "                'OnlineBackup', 'DeviceProtection', 'TechSupport', 'StreamingTV', 'StreamingMovies']\n",
    "\n",
    "def count_services(row):\n",
    "    count = 0\n",
    "    for col in service_cols:\n",
    "        if row[col] not in ['No', 'No internet service', 'No phone service']:\n",
    "            count += 1\n",
    "    return count\n",
    "\n",
    "df['total_services'] = df.apply(count_services, axis=1)\n",
    "\n",
    "df['has_streaming'] = ((df['StreamingTV'] == 'Yes') | (df['StreamingMovies'] == 'Yes')).astype(int)\n",
    "df['has_security'] = ((df['OnlineSecurity'] == 'Yes') | (df['DeviceProtection'] == 'Yes')).astype(int)\n",
    "df['has_support'] = (df['TechSupport'] == 'Yes').astype(int)\n",
    "\n",
    "df['is_long_term'] = (df['tenure'] > 24).astype(int)\n",
    "df['is_senior'] = df['SeniorCitizen']\n",
    "df['has_partner_or_dependent'] = ((df['Partner'] == 'Yes') | (df['Dependents'] == 'Yes')).astype(int)\n",
    "\n",
    "df['auto_payment'] = df['PaymentMethod'].str.contains('automatic', case=False, na=False).astype(int)\n",
    "\n",
    "print(f\"\\nEngineered features:\")\n",
    "print(f\"- Tenure-based: tenure_years\")\n",
    "print(f\"- Financial: avg_monthly_spend, charge_per_tenure\")\n",
    "print(f\"- Service: total_services, has_streaming, has_security, has_support\")\n",
    "print(f\"- Customer: is_long_term, has_partner_or_dependent, auto_payment\")"
   ]
  },
  {
   "cell_type": "markdown",
   "metadata": {},
   "source": [
    "## 5. Encode Categorical Variables"
   ]
  },
  {
   "cell_type": "code",
   "execution_count": 7,
   "metadata": {},
   "outputs": [
    {
     "name": "stdout",
     "output_type": "stream",
     "text": [
      "\n",
      "Categorical encoding complete\n",
      "New encoded columns: ['payment_Bank transfer (automatic)', 'payment_Credit card (automatic)', 'payment_Electronic check', 'payment_Mailed check']\n"
     ]
    }
   ],
   "source": [
    "df['gender_encoded'] = (df['gender'] == 'Male').astype(int)\n",
    "df['partner_encoded'] = (df['Partner'] == 'Yes').astype(int)\n",
    "df['dependents_encoded'] = (df['Dependents'] == 'Yes').astype(int)\n",
    "df['phone_service_encoded'] = (df['PhoneService'] == 'Yes').astype(int)\n",
    "df['paperless_billing_encoded'] = (df['PaperlessBilling'] == 'Yes').astype(int)\n",
    "df['churn_encoded'] = (df['Churn'] == 'Yes').astype(int)\n",
    "\n",
    "contract_mapping = {'Month-to-month': 0, 'One year': 1, 'Two year': 2}\n",
    "df['contract_encoded'] = df['Contract'].map(contract_mapping)\n",
    "\n",
    "internet_mapping = {'No': 0, 'DSL': 1, 'Fiber optic': 2}\n",
    "df['internet_service_encoded'] = df['InternetService'].map(internet_mapping)\n",
    "\n",
    "payment_dummies = pd.get_dummies(df['PaymentMethod'], prefix='payment')\n",
    "df = pd.concat([df, payment_dummies], axis=1)\n",
    "\n",
    "print(\"\\nCategorical encoding complete\")\n",
    "print(f\"New encoded columns: {list(payment_dummies.columns)}\")"
   ]
  },
  {
   "cell_type": "markdown",
   "metadata": {},
   "source": [
    "## 6. Select Final Features"
   ]
  },
  {
   "cell_type": "code",
   "execution_count": 8,
   "metadata": {},
   "outputs": [
    {
     "name": "stdout",
     "output_type": "stream",
     "text": [
      "\n",
      "Processed dataset shape: (7043, 27)\n",
      "Features: 25\n",
      "\n",
      "Feature list:\n",
      " 1. gender_encoded\n",
      " 2. SeniorCitizen\n",
      " 3. partner_encoded\n",
      " 4. dependents_encoded\n",
      " 5. tenure\n",
      " 6. tenure_years\n",
      " 7. phone_service_encoded\n",
      " 8. contract_encoded\n",
      " 9. internet_service_encoded\n",
      "10. paperless_billing_encoded\n",
      "11. MonthlyCharges\n",
      "12. TotalCharges\n",
      "13. avg_monthly_spend\n",
      "14. charge_per_tenure\n",
      "15. total_services\n",
      "16. has_streaming\n",
      "17. has_security\n",
      "18. has_support\n",
      "19. is_long_term\n",
      "20. has_partner_or_dependent\n",
      "21. auto_payment\n",
      "22. churn_encoded\n",
      "23. payment_Bank transfer (automatic)\n",
      "24. payment_Credit card (automatic)\n",
      "25. payment_Electronic check\n"
     ]
    }
   ],
   "source": [
    "feature_columns = [\n",
    "    'customerID',\n",
    "    'gender_encoded',\n",
    "    'SeniorCitizen',\n",
    "    'partner_encoded',\n",
    "    'dependents_encoded',\n",
    "    'tenure',\n",
    "    'tenure_years',\n",
    "    'phone_service_encoded',\n",
    "    'contract_encoded',\n",
    "    'internet_service_encoded',\n",
    "    'paperless_billing_encoded',\n",
    "    'MonthlyCharges',\n",
    "    'TotalCharges',\n",
    "    'avg_monthly_spend',\n",
    "    'charge_per_tenure',\n",
    "    'total_services',\n",
    "    'has_streaming',\n",
    "    'has_security',\n",
    "    'has_support',\n",
    "    'is_long_term',\n",
    "    'has_partner_or_dependent',\n",
    "    'auto_payment',\n",
    "    'churn_encoded'\n",
    "]\n",
    "\n",
    "payment_cols = [col for col in df.columns if col.startswith('payment_')]\n",
    "feature_columns.extend(payment_cols)\n",
    "\n",
    "df_processed = df[feature_columns].copy()\n",
    "\n",
    "print(f\"\\nProcessed dataset shape: {df_processed.shape}\")\n",
    "print(f\"Features: {len(feature_columns) - 2}\")  \n",
    "print(f\"\\nFeature list:\")\n",
    "for i, col in enumerate(feature_columns[1:-1], 1):\n",
    "    print(f\"{i:2d}. {col}\")"
   ]
  },
  {
   "cell_type": "markdown",
   "metadata": {},
   "source": [
    "## 7. Save Processed Data"
   ]
  },
  {
   "cell_type": "code",
   "execution_count": 9,
   "metadata": {},
   "outputs": [
    {
     "name": "stdout",
     "output_type": "stream",
     "text": [
      "\n",
      "✓ Processed data saved to: C:\\Users\\Khalid Abdelaty\\depii r3\\milestone_1\\data\\processed\\customer_churn_processed.csv\n",
      "  Shape: (7043, 27)\n",
      "  Size: 874.09 KB\n"
     ]
    }
   ],
   "source": [
    "output_file = processed_data_path / 'customer_churn_processed.csv'\n",
    "df_processed.to_csv(output_file, index=False)\n",
    "print(f\"\\n✓ Processed data saved to: {output_file}\")\n",
    "print(f\"  Shape: {df_processed.shape}\")\n",
    "print(f\"  Size: {output_file.stat().st_size / 1024:.2f} KB\")"
   ]
  },
  {
   "cell_type": "markdown",
   "metadata": {},
   "source": [
    "## 8. Feature Statistics"
   ]
  },
  {
   "cell_type": "code",
   "execution_count": 10,
   "metadata": {},
   "outputs": [
    {
     "name": "stdout",
     "output_type": "stream",
     "text": [
      "\n",
      "Feature Statistics:\n",
      "================================================================================\n",
      "       gender_encoded  SeniorCitizen  partner_encoded  dependents_encoded  \\\n",
      "count     7043.000000    7043.000000      7043.000000         7043.000000   \n",
      "mean         0.504756       0.162147         0.483033            0.299588   \n",
      "std          0.500013       0.368612         0.499748            0.458110   \n",
      "min          0.000000       0.000000         0.000000            0.000000   \n",
      "25%          0.000000       0.000000         0.000000            0.000000   \n",
      "50%          1.000000       0.000000         0.000000            0.000000   \n",
      "75%          1.000000       0.000000         1.000000            1.000000   \n",
      "max          1.000000       1.000000         1.000000            1.000000   \n",
      "\n",
      "            tenure  tenure_years  phone_service_encoded  contract_encoded  \\\n",
      "count  7043.000000   7043.000000            7043.000000       7043.000000   \n",
      "mean     32.371149      2.697596               0.903166          0.690473   \n",
      "std      24.559481      2.046623               0.295752          0.833755   \n",
      "min       0.000000      0.000000               0.000000          0.000000   \n",
      "25%       9.000000      0.750000               1.000000          0.000000   \n",
      "50%      29.000000      2.416667               1.000000          0.000000   \n",
      "75%      55.000000      4.583333               1.000000          1.000000   \n",
      "max      72.000000      6.000000               1.000000          2.000000   \n",
      "\n",
      "       internet_service_encoded  paperless_billing_encoded  ...  TotalCharges  \\\n",
      "count               7043.000000                7043.000000  ...   7043.000000   \n",
      "mean                   1.222916                   0.592219  ...   2279.734304   \n",
      "std                    0.778877                   0.491457  ...   2266.794470   \n",
      "min                    0.000000                   0.000000  ...      0.000000   \n",
      "25%                    1.000000                   0.000000  ...    398.550000   \n",
      "50%                    1.000000                   1.000000  ...   1394.550000   \n",
      "75%                    2.000000                   1.000000  ...   3786.600000   \n",
      "max                    2.000000                   1.000000  ...   8684.800000   \n",
      "\n",
      "       avg_monthly_spend  charge_per_tenure  total_services  has_streaming  \\\n",
      "count        7043.000000        7043.000000     7043.000000    7043.000000   \n",
      "mean           58.990789           5.770645        4.146244       0.496805   \n",
      "std            30.579745           8.722435        2.312720       0.500025   \n",
      "min             0.000000           0.264384        1.000000       0.000000   \n",
      "25%            26.041493           1.250000        2.000000       0.000000   \n",
      "50%            60.937879           2.075926        4.000000       0.000000   \n",
      "75%            84.830742           5.946429        6.000000       1.000000   \n",
      "max           118.969863          80.850000        9.000000       1.000000   \n",
      "\n",
      "       has_security  has_support  is_long_term  has_partner_or_dependent  \\\n",
      "count   7043.000000  7043.000000   7043.000000               7043.000000   \n",
      "mean       0.472810     0.290217      0.544228                  0.534289   \n",
      "std        0.499296     0.453895      0.498075                  0.498858   \n",
      "min        0.000000     0.000000      0.000000                  0.000000   \n",
      "25%        0.000000     0.000000      0.000000                  0.000000   \n",
      "50%        0.000000     0.000000      1.000000                  1.000000   \n",
      "75%        1.000000     1.000000      1.000000                  1.000000   \n",
      "max        1.000000     1.000000      1.000000                  1.000000   \n",
      "\n",
      "       auto_payment  \n",
      "count   7043.000000  \n",
      "mean       0.435326  \n",
      "std        0.495835  \n",
      "min        0.000000  \n",
      "25%        0.000000  \n",
      "50%        0.000000  \n",
      "75%        1.000000  \n",
      "max        1.000000  \n",
      "\n",
      "[8 rows x 21 columns]\n"
     ]
    }
   ],
   "source": [
    "numeric_features = df_processed.select_dtypes(include=[np.number]).columns.tolist()\n",
    "numeric_features.remove('customerID') if 'customerID' in numeric_features else None\n",
    "numeric_features.remove('churn_encoded') if 'churn_encoded' in numeric_features else None\n",
    "\n",
    "print(\"\\nFeature Statistics:\")\n",
    "print(\"=\"*80)\n",
    "print(df_processed[numeric_features].describe())"
   ]
  },
  {
   "cell_type": "markdown",
   "metadata": {},
   "source": [
    "## 9. Data Quality Check"
   ]
  },
  {
   "cell_type": "code",
   "execution_count": 11,
   "metadata": {},
   "outputs": [
    {
     "name": "stdout",
     "output_type": "stream",
     "text": [
      "\n",
      "Data Quality Report:\n",
      "============================================================\n",
      "Total records: 7043\n",
      "Total features: 25\n",
      "Missing values: 0\n",
      "Duplicate records: 0\n",
      "Churn rate: 26.54%\n",
      "============================================================\n"
     ]
    }
   ],
   "source": [
    "print(\"\\nData Quality Report:\")\n",
    "print(\"=\"*60)\n",
    "print(f\"Total records: {len(df_processed)}\")\n",
    "print(f\"Total features: {len(df_processed.columns) - 2}\")\n",
    "print(f\"Missing values: {df_processed.isnull().sum().sum()}\")\n",
    "print(f\"Duplicate records: {df_processed.duplicated(subset=['customerID']).sum()}\")\n",
    "print(f\"Churn rate: {100 * df_processed['churn_encoded'].mean():.2f}%\")\n",
    "print(\"=\"*60)"
   ]
  },
  {
   "cell_type": "markdown",
   "metadata": {},
   "source": [
    "## 10. Summary"
   ]
  },
  {
   "cell_type": "code",
   "execution_count": 12,
   "metadata": {},
   "outputs": [
    {
     "name": "stdout",
     "output_type": "stream",
     "text": [
      "\n",
      "================================================================================\n",
      "PREPROCESSING SUMMARY\n",
      "================================================================================\n",
      "\n",
      "✓ Data cleaning completed\n",
      "  - Fixed TotalCharges data type\n",
      "  - Handled missing values\n",
      "\n",
      "✓ Feature engineering completed\n",
      "  - Created 25 features\n",
      "  - Encoded categorical variables\n",
      "  - Generated derived features\n",
      "\n",
      "✓ Data saved\n",
      "  - Location: C:\\Users\\Khalid Abdelaty\\depii r3\\milestone_1\\data\\processed\\customer_churn_processed.csv\n",
      "  - Format: CSV\n",
      "\n",
      "Next Steps:\n",
      "1. Create MySQL database schema\n",
      "2. Load processed data into database\n",
      "3. Create SQL queries for feature extraction\n",
      "4. Validate data integrity\n",
      "================================================================================\n"
     ]
    }
   ],
   "source": [
    "print(\"\\n\" + \"=\"*80)\n",
    "print(\"PREPROCESSING SUMMARY\")\n",
    "print(\"=\"*80)\n",
    "print(f\"\\n✓ Data cleaning completed\")\n",
    "print(f\"  - Fixed TotalCharges data type\")\n",
    "print(f\"  - Handled missing values\")\n",
    "print(f\"\\n✓ Feature engineering completed\")\n",
    "print(f\"  - Created {len(feature_columns) - len(['customerID', 'churn_encoded'])} features\")\n",
    "print(f\"  - Encoded categorical variables\")\n",
    "print(f\"  - Generated derived features\")\n",
    "print(f\"\\n✓ Data saved\")\n",
    "print(f\"  - Location: {output_file}\")\n",
    "print(f\"  - Format: CSV\")\n",
    "print(f\"\\nNext Steps:\")\n",
    "print(\"1. Create MySQL database schema\")\n",
    "print(\"2. Load processed data into database\")\n",
    "print(\"3. Create SQL queries for feature extraction\")\n",
    "print(\"4. Validate data integrity\")\n",
    "print(\"=\"*80)"
   ]
  },
  {
   "cell_type": "code",
   "execution_count": null,
   "metadata": {},
   "outputs": [],
   "source": []
  }
 ],
 "metadata": {
  "kernelspec": {
   "display_name": "Python 3 (ipykernel)",
   "language": "python",
   "name": "python3"
  },
  "language_info": {
   "codemirror_mode": {
    "name": "ipython",
    "version": 3
   },
   "file_extension": ".py",
   "mimetype": "text/x-python",
   "name": "python",
   "nbconvert_exporter": "python",
   "pygments_lexer": "ipython3",
   "version": "3.11.9"
  }
 },
 "nbformat": 4,
 "nbformat_minor": 4
}
